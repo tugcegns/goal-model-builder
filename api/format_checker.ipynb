{
 "cells": [
  {
   "cell_type": "code",
   "execution_count": 7,
   "metadata": {},
   "outputs": [],
   "source": [
    "import re\n",
    "# define the name of the file to read from\n",
    "filename = \"smallSet.txt\"\n",
    "def formatting(filename):\n",
    "    # open the file for reading\n",
    "    with open(filename, 'r') as f:\n",
    "        for num, line in enumerate(f, 1):\n",
    "            if re.search(r'(A|a)s\\s*?an?\\s*([^,]*)?,', line) is None:\n",
    "                return f\"Please check your User Story Set format. Line number: {num}\"\n",
    "            else:\n",
    "                return True\n"
   ]
  },
  {
   "cell_type": "code",
   "execution_count": 13,
   "metadata": {},
   "outputs": [],
   "source": [
    "if not(formatting(filename)):\n",
    "    print(\"YEsss\")"
   ]
  },
  {
   "cell_type": "code",
   "execution_count": null,
   "metadata": {},
   "outputs": [],
   "source": []
  }
 ],
 "metadata": {
  "kernelspec": {
   "display_name": "Python 3",
   "language": "python",
   "name": "python3"
  },
  "language_info": {
   "codemirror_mode": {
    "name": "ipython",
    "version": 3
   },
   "file_extension": ".py",
   "mimetype": "text/x-python",
   "name": "python",
   "nbconvert_exporter": "python",
   "pygments_lexer": "ipython3",
   "version": "3.8.3"
  }
 },
 "nbformat": 4,
 "nbformat_minor": 4
}
